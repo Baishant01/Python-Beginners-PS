{
 "cells": [
  {
   "cell_type": "markdown",
   "id": "2c457f80",
   "metadata": {},
   "source": [
    "## What are operators?\n",
    "\n",
    "**operators** are indicators that indicates what operation is to be performed while **operands** indicates on what the action or the operation is to be performed."
   ]
  },
  {
   "cell_type": "markdown",
   "id": "c4ad9854",
   "metadata": {},
   "source": [
    "## Types of operators in python:\n",
    "\n",
    "1. Arithmetic Operators\n",
    "2. Comparison Operators\n",
    "3. Assignment Operators\n",
    "4. Bitwise Operators\n",
    "5. Logical Operators\n",
    "6. Membership Operators\n",
    "7. Identity Operators"
   ]
  },
  {
   "cell_type": "markdown",
   "id": "d94cff1c",
   "metadata": {},
   "source": [
    "## 1. Arithmetic Operators\n",
    "\n",
    "+, - , *, /, //, %, **\n"
   ]
  },
  {
   "cell_type": "code",
   "execution_count": null,
   "id": "36c6a0b2",
   "metadata": {},
   "outputs": [
    {
     "data": {
      "text/plain": [
       "8"
      ]
     },
     "execution_count": 1,
     "metadata": {},
     "output_type": "execute_result"
    }
   ],
   "source": [
    "4 + 4"
   ]
  },
  {
   "cell_type": "code",
   "execution_count": 2,
   "id": "517c625c",
   "metadata": {},
   "outputs": [
    {
     "data": {
      "text/plain": [
       "0"
      ]
     },
     "execution_count": 2,
     "metadata": {},
     "output_type": "execute_result"
    }
   ],
   "source": [
    "4 - 4"
   ]
  },
  {
   "cell_type": "code",
   "execution_count": null,
   "id": "57598a48",
   "metadata": {},
   "outputs": [
    {
     "data": {
      "text/plain": [
       "2.0"
      ]
     },
     "execution_count": 3,
     "metadata": {},
     "output_type": "execute_result"
    }
   ],
   "source": [
    "8 / 4 # Division returns float values"
   ]
  },
  {
   "cell_type": "code",
   "execution_count": null,
   "id": "c5a18611",
   "metadata": {},
   "outputs": [
    {
     "data": {
      "text/plain": [
       "2"
      ]
     },
     "execution_count": 4,
     "metadata": {},
     "output_type": "execute_result"
    }
   ],
   "source": [
    "9 //  # Floor division returns the largest integer less than or equal to the division result."
   ]
  },
  {
   "cell_type": "code",
   "execution_count": 5,
   "id": "0f061568",
   "metadata": {},
   "outputs": [
    {
     "data": {
      "text/plain": [
       "81"
      ]
     },
     "execution_count": 5,
     "metadata": {},
     "output_type": "execute_result"
    }
   ],
   "source": [
    "9 * 9"
   ]
  },
  {
   "cell_type": "code",
   "execution_count": null,
   "id": "72f93e3a",
   "metadata": {},
   "outputs": [
    {
     "data": {
      "text/plain": [
       "16"
      ]
     },
     "execution_count": 6,
     "metadata": {},
     "output_type": "execute_result"
    }
   ],
   "source": [
    "2 ** 4 # Let (x ** y ), where x is variable to be powered and y is the power"
   ]
  },
  {
   "cell_type": "code",
   "execution_count": null,
   "id": "df335d41",
   "metadata": {},
   "outputs": [
    {
     "data": {
      "text/plain": [
       "2"
      ]
     },
     "execution_count": 7,
     "metadata": {},
     "output_type": "execute_result"
    }
   ],
   "source": [
    "2 % 10 # Modulus returns the remainder of the division"
   ]
  },
  {
   "cell_type": "markdown",
   "id": "b31abaf2",
   "metadata": {},
   "source": [
    "## 2. Comparison Operators\n",
    "==, !=, >, <, >=, <="
   ]
  },
  {
   "cell_type": "code",
   "execution_count": 8,
   "id": "dc8c8db7",
   "metadata": {},
   "outputs": [
    {
     "data": {
      "text/plain": [
       "False"
      ]
     },
     "execution_count": 8,
     "metadata": {},
     "output_type": "execute_result"
    }
   ],
   "source": [
    "3 > 4"
   ]
  },
  {
   "cell_type": "code",
   "execution_count": 9,
   "id": "3efb0216",
   "metadata": {},
   "outputs": [
    {
     "data": {
      "text/plain": [
       "True"
      ]
     },
     "execution_count": 9,
     "metadata": {},
     "output_type": "execute_result"
    }
   ],
   "source": [
    "5 < 10"
   ]
  },
  {
   "cell_type": "code",
   "execution_count": 10,
   "id": "9fc3d79a",
   "metadata": {},
   "outputs": [
    {
     "data": {
      "text/plain": [
       "True"
      ]
     },
     "execution_count": 10,
     "metadata": {},
     "output_type": "execute_result"
    }
   ],
   "source": [
    "4 == 4"
   ]
  },
  {
   "cell_type": "code",
   "execution_count": 11,
   "id": "3cf56bbf",
   "metadata": {},
   "outputs": [
    {
     "data": {
      "text/plain": [
       "True"
      ]
     },
     "execution_count": 11,
     "metadata": {},
     "output_type": "execute_result"
    }
   ],
   "source": [
    "6 <= 7"
   ]
  },
  {
   "cell_type": "code",
   "execution_count": 12,
   "id": "13e9221b",
   "metadata": {},
   "outputs": [
    {
     "data": {
      "text/plain": [
       "True"
      ]
     },
     "execution_count": 12,
     "metadata": {},
     "output_type": "execute_result"
    }
   ],
   "source": [
    "8 >= 3"
   ]
  },
  {
   "cell_type": "code",
   "execution_count": 13,
   "id": "5e833d00",
   "metadata": {},
   "outputs": [
    {
     "data": {
      "text/plain": [
       "True"
      ]
     },
     "execution_count": 13,
     "metadata": {},
     "output_type": "execute_result"
    }
   ],
   "source": [
    "8 != 9"
   ]
  },
  {
   "cell_type": "markdown",
   "id": "47cd9af4",
   "metadata": {},
   "source": [
    "## 3. Logical Operators\n",
    "\n",
    "and, or, not"
   ]
  },
  {
   "cell_type": "code",
   "execution_count": null,
   "id": "6a7d7af7",
   "metadata": {},
   "outputs": [
    {
     "data": {
      "text/plain": [
       "False"
      ]
     },
     "execution_count": 16,
     "metadata": {},
     "output_type": "execute_result"
    }
   ],
   "source": [
    "(4 > 5) and (5 > 6) # False and True = False"
   ]
  },
  {
   "cell_type": "code",
   "execution_count": null,
   "id": "af677012",
   "metadata": {},
   "outputs": [
    {
     "data": {
      "text/plain": [
       "True"
      ]
     },
     "execution_count": 18,
     "metadata": {},
     "output_type": "execute_result"
    }
   ],
   "source": [
    "(5 < 10) and (4 < 5) # True and True = True"
   ]
  },
  {
   "cell_type": "code",
   "execution_count": 19,
   "id": "b3122323",
   "metadata": {},
   "outputs": [
    {
     "data": {
      "text/plain": [
       "False"
      ]
     },
     "execution_count": 19,
     "metadata": {},
     "output_type": "execute_result"
    }
   ],
   "source": [
    "(True) and (False) # True and False = False"
   ]
  },
  {
   "cell_type": "code",
   "execution_count": 24,
   "id": "8d40d5c5",
   "metadata": {},
   "outputs": [
    {
     "data": {
      "text/plain": [
       "False"
      ]
     },
     "execution_count": 24,
     "metadata": {},
     "output_type": "execute_result"
    }
   ],
   "source": [
    "False and False # False and False = False"
   ]
  },
  {
   "cell_type": "code",
   "execution_count": 25,
   "id": "3ef2483d",
   "metadata": {},
   "outputs": [
    {
     "data": {
      "text/plain": [
       "True"
      ]
     },
     "execution_count": 25,
     "metadata": {},
     "output_type": "execute_result"
    }
   ],
   "source": [
    "(True) or (False) # True or False = True"
   ]
  },
  {
   "cell_type": "code",
   "execution_count": 26,
   "id": "1a09a98a",
   "metadata": {},
   "outputs": [
    {
     "data": {
      "text/plain": [
       "True"
      ]
     },
     "execution_count": 26,
     "metadata": {},
     "output_type": "execute_result"
    }
   ],
   "source": [
    "(False) or (True) # False or True = True"
   ]
  },
  {
   "cell_type": "code",
   "execution_count": 27,
   "id": "60ee35a9",
   "metadata": {},
   "outputs": [
    {
     "data": {
      "text/plain": [
       "True"
      ]
     },
     "execution_count": 27,
     "metadata": {},
     "output_type": "execute_result"
    }
   ],
   "source": [
    "(True) or (True) # True or True = True"
   ]
  },
  {
   "cell_type": "code",
   "execution_count": 28,
   "id": "d4cebbd0",
   "metadata": {},
   "outputs": [
    {
     "data": {
      "text/plain": [
       "False"
      ]
     },
     "execution_count": 28,
     "metadata": {},
     "output_type": "execute_result"
    }
   ],
   "source": [
    "(False) or (False) # False or False = False"
   ]
  },
  {
   "cell_type": "code",
   "execution_count": 29,
   "id": "4fecfb67",
   "metadata": {},
   "outputs": [
    {
     "data": {
      "text/plain": [
       "False"
      ]
     },
     "execution_count": 29,
     "metadata": {},
     "output_type": "execute_result"
    }
   ],
   "source": [
    "not ((True))"
   ]
  },
  {
   "cell_type": "code",
   "execution_count": 30,
   "id": "f08a8aea",
   "metadata": {},
   "outputs": [
    {
     "data": {
      "text/plain": [
       "False"
      ]
     },
     "execution_count": 30,
     "metadata": {},
     "output_type": "execute_result"
    }
   ],
   "source": [
    "not((True) or (False))"
   ]
  },
  {
   "cell_type": "code",
   "execution_count": 31,
   "id": "d8182b5f",
   "metadata": {},
   "outputs": [
    {
     "data": {
      "text/plain": [
       "True"
      ]
     },
     "execution_count": 31,
     "metadata": {},
     "output_type": "execute_result"
    }
   ],
   "source": [
    "not((True) and (False))"
   ]
  },
  {
   "cell_type": "markdown",
   "id": "658992fa",
   "metadata": {},
   "source": [
    "## 4. Assignment Operators\n",
    "\n",
    "+=, -=, *=, /=, //=, **=, %=\n"
   ]
  },
  {
   "cell_type": "code",
   "execution_count": 34,
   "id": "0dfe64c0",
   "metadata": {},
   "outputs": [
    {
     "data": {
      "text/plain": [
       "2"
      ]
     },
     "execution_count": 34,
     "metadata": {},
     "output_type": "execute_result"
    }
   ],
   "source": [
    "x = 1\n",
    "\n",
    "x += 1\n",
    "x"
   ]
  },
  {
   "cell_type": "code",
   "execution_count": 38,
   "id": "c1033873",
   "metadata": {},
   "outputs": [
    {
     "data": {
      "text/plain": [
       "1"
      ]
     },
     "execution_count": 38,
     "metadata": {},
     "output_type": "execute_result"
    }
   ],
   "source": [
    "a = 2\n",
    "\n",
    "a -= 1\n",
    "a"
   ]
  },
  {
   "cell_type": "code",
   "execution_count": 43,
   "id": "21783b0e",
   "metadata": {},
   "outputs": [
    {
     "data": {
      "text/plain": [
       "4"
      ]
     },
     "execution_count": 43,
     "metadata": {},
     "output_type": "execute_result"
    }
   ],
   "source": [
    "b = 2\n",
    "\n",
    "b *= 2\n",
    "b"
   ]
  },
  {
   "cell_type": "code",
   "execution_count": 47,
   "id": "8cef17d2",
   "metadata": {},
   "outputs": [
    {
     "data": {
      "text/plain": [
       "3.0"
      ]
     },
     "execution_count": 47,
     "metadata": {},
     "output_type": "execute_result"
    }
   ],
   "source": [
    "c = 6 \n",
    "\n",
    "c /= 2\n",
    "c"
   ]
  },
  {
   "cell_type": "code",
   "execution_count": 49,
   "id": "d969516f",
   "metadata": {},
   "outputs": [
    {
     "data": {
      "text/plain": [
       "4"
      ]
     },
     "execution_count": 49,
     "metadata": {},
     "output_type": "execute_result"
    }
   ],
   "source": [
    "d = 9\n",
    "\n",
    "d //= 2\n",
    "d"
   ]
  },
  {
   "cell_type": "code",
   "execution_count": 50,
   "id": "62b4674d",
   "metadata": {},
   "outputs": [
    {
     "data": {
      "text/plain": [
       "100"
      ]
     },
     "execution_count": 50,
     "metadata": {},
     "output_type": "execute_result"
    }
   ],
   "source": [
    "e = 10\n",
    "\n",
    "e **= 2\n",
    "e"
   ]
  },
  {
   "cell_type": "code",
   "execution_count": 52,
   "id": "649fcd3e",
   "metadata": {},
   "outputs": [
    {
     "data": {
      "text/plain": [
       "1"
      ]
     },
     "execution_count": 52,
     "metadata": {},
     "output_type": "execute_result"
    }
   ],
   "source": [
    "f = 5\n",
    "\n",
    "f %= 2\n",
    "f"
   ]
  },
  {
   "cell_type": "markdown",
   "id": "807eda38",
   "metadata": {},
   "source": [
    "## 5. Identity Operators\n",
    "\n",
    "Identity operators are used to compare items to see if they are the same object in memory with the same memory address.\n",
    "The identity operators are:\n",
    "- is\n",
    "- is not"
   ]
  },
  {
   "cell_type": "code",
   "execution_count": 53,
   "id": "3f7ffe0c",
   "metadata": {},
   "outputs": [
    {
     "data": {
      "text/plain": [
       "False"
      ]
     },
     "execution_count": 53,
     "metadata": {},
     "output_type": "execute_result"
    }
   ],
   "source": [
    "list1 = [1, 2, 3]\n",
    "list2 = [1, 2, 3]\n",
    "\n",
    "list2 is list1\n"
   ]
  },
  {
   "cell_type": "code",
   "execution_count": 54,
   "id": "1cf3d6db",
   "metadata": {},
   "outputs": [
    {
     "data": {
      "text/plain": [
       "True"
      ]
     },
     "execution_count": 54,
     "metadata": {},
     "output_type": "execute_result"
    }
   ],
   "source": [
    "list3 = [1, 2, 3]\n",
    "list4 = list3\n",
    "\n",
    "list4 is list3"
   ]
  },
  {
   "cell_type": "code",
   "execution_count": 55,
   "id": "23992ed1",
   "metadata": {},
   "outputs": [
    {
     "data": {
      "text/plain": [
       "False"
      ]
     },
     "execution_count": 55,
     "metadata": {},
     "output_type": "execute_result"
    }
   ],
   "source": [
    "list5 = [1, 2, 3]\n",
    "list6 = list5\n",
    "\n",
    "list5 is not list6"
   ]
  },
  {
   "cell_type": "code",
   "execution_count": 56,
   "id": "160a86d2",
   "metadata": {},
   "outputs": [
    {
     "data": {
      "text/plain": [
       "True"
      ]
     },
     "execution_count": 56,
     "metadata": {},
     "output_type": "execute_result"
    }
   ],
   "source": [
    "list7 = [1, 2, 3]\n",
    "list8 = [1, 2, 3]\n",
    "\n",
    "list7 is not list8"
   ]
  },
  {
   "cell_type": "markdown",
   "id": "d0f410f8",
   "metadata": {},
   "source": [
    "## 6. Bitwise Operators\n",
    "\n",
    "Bitwise operators are used to perform operations on binary numbers. The bitwise operators are:\n",
    "- &\n",
    "- |\n",
    "- ^\n",
    "- ~\n",
    "- <<, >>"
   ]
  },
  {
   "cell_type": "code",
   "execution_count": 61,
   "id": "0a395603",
   "metadata": {},
   "outputs": [
    {
     "name": "stdout",
     "output_type": "stream",
     "text": [
      "0\n",
      "0\n",
      "0\n",
      "1\n"
     ]
    }
   ],
   "source": [
    "print(0 & 0)\n",
    "print(0 & 1)\n",
    "print(1 & 0)\n",
    "print(1 & 1)"
   ]
  },
  {
   "cell_type": "code",
   "execution_count": 63,
   "id": "58166d62",
   "metadata": {},
   "outputs": [
    {
     "name": "stdout",
     "output_type": "stream",
     "text": [
      "1\n",
      "1\n",
      "1\n",
      "0\n"
     ]
    }
   ],
   "source": [
    "print(1 | 1)\n",
    "print(1 | 0)\n",
    "print(0 | 1)\n",
    "print(0 | 0)"
   ]
  },
  {
   "cell_type": "code",
   "execution_count": 73,
   "id": "e6d1bd68",
   "metadata": {},
   "outputs": [
    {
     "data": {
      "text/plain": [
       "'0b1010'"
      ]
     },
     "execution_count": 73,
     "metadata": {},
     "output_type": "execute_result"
    }
   ],
   "source": [
    "x = 10\n",
    "y = bin(x)\n",
    "y"
   ]
  },
  {
   "cell_type": "code",
   "execution_count": 71,
   "id": "fe92f0f8",
   "metadata": {},
   "outputs": [
    {
     "data": {
      "text/plain": [
       "10"
      ]
     },
     "execution_count": 71,
     "metadata": {},
     "output_type": "execute_result"
    }
   ],
   "source": [
    "0b1010"
   ]
  },
  {
   "cell_type": "code",
   "execution_count": 75,
   "id": "4825c148",
   "metadata": {},
   "outputs": [
    {
     "data": {
      "text/plain": [
       "8"
      ]
     },
     "execution_count": 75,
     "metadata": {},
     "output_type": "execute_result"
    }
   ],
   "source": [
    "8 & 10"
   ]
  },
  {
   "cell_type": "code",
   "execution_count": null,
   "id": "50e2d8bf",
   "metadata": {},
   "outputs": [
    {
     "data": {
      "text/plain": [
       "10"
      ]
     },
     "execution_count": 77,
     "metadata": {},
     "output_type": "execute_result"
    }
   ],
   "source": [
    "8 | 10 # 0b1010 is 10 and 0b1000 is 8. Now comparing with each corresponding binary values of 8 and 10 respectively i.e. [(1,1), (0,0), (0,1), (0,0)] which gives final result [True, False, True, False] which is [1,0,1,0] which when combined gives 1010 which is 10 in decimal"
   ]
  },
  {
   "cell_type": "code",
   "execution_count": 78,
   "id": "60719151",
   "metadata": {},
   "outputs": [
    {
     "name": "stdout",
     "output_type": "stream",
     "text": [
      "0\n",
      "1\n",
      "1\n",
      "0\n"
     ]
    }
   ],
   "source": [
    "# XOR (^) formula says when the bits are different, it returns 1, otherwise it returns 0.\n",
    "\n",
    "print( 0 ^ 0 )\n",
    "print( 0 ^ 1 )\n",
    "print( 1 ^ 0 )\n",
    "print( 1 ^ 1 )"
   ]
  },
  {
   "cell_type": "code",
   "execution_count": 79,
   "id": "c423bc8d",
   "metadata": {},
   "outputs": [
    {
     "data": {
      "text/plain": [
       "2"
      ]
     },
     "execution_count": 79,
     "metadata": {},
     "output_type": "execute_result"
    }
   ],
   "source": [
    "8 ^ 10"
   ]
  },
  {
   "cell_type": "code",
   "execution_count": null,
   "id": "54259056",
   "metadata": {},
   "outputs": [
    {
     "data": {
      "text/plain": [
       "2"
      ]
     },
     "execution_count": 83,
     "metadata": {},
     "output_type": "execute_result"
    }
   ],
   "source": [
    "8 >> 2 # right shift"
   ]
  },
  {
   "cell_type": "code",
   "execution_count": 85,
   "id": "dcf969eb",
   "metadata": {},
   "outputs": [
    {
     "data": {
      "text/plain": [
       "40"
      ]
     },
     "execution_count": 85,
     "metadata": {},
     "output_type": "execute_result"
    }
   ],
   "source": [
    "10 << 2 # left shift"
   ]
  },
  {
   "cell_type": "code",
   "execution_count": 88,
   "id": "7cfcef26",
   "metadata": {},
   "outputs": [
    {
     "data": {
      "text/plain": [
       "512"
      ]
     },
     "execution_count": 88,
     "metadata": {},
     "output_type": "execute_result"
    }
   ],
   "source": [
    "128 << 2"
   ]
  },
  {
   "cell_type": "code",
   "execution_count": 87,
   "id": "d4b95cdf",
   "metadata": {},
   "outputs": [
    {
     "data": {
      "text/plain": [
       "512"
      ]
     },
     "execution_count": 87,
     "metadata": {},
     "output_type": "execute_result"
    }
   ],
   "source": [
    "256<<1"
   ]
  },
  {
   "cell_type": "code",
   "execution_count": 89,
   "id": "dbe54c57",
   "metadata": {},
   "outputs": [
    {
     "data": {
      "text/plain": [
       "128"
      ]
     },
     "execution_count": 89,
     "metadata": {},
     "output_type": "execute_result"
    }
   ],
   "source": [
    "512 >> 2"
   ]
  },
  {
   "cell_type": "markdown",
   "id": "f09cc0df",
   "metadata": {},
   "source": [
    "### The above examples clarifies that python do discard numbers by the length of digit they shift with while right shifting.\n",
    "### But while left shifting, no digits in the left most part are discarded (removed) as python can add as much bits as they want unlike some programming languages."
   ]
  },
  {
   "cell_type": "markdown",
   "id": "6fcf3ee7",
   "metadata": {},
   "source": [
    "\n",
    "## 7.Membership Operators\n",
    "\n",
    "in, not in"
   ]
  },
  {
   "cell_type": "code",
   "execution_count": 91,
   "id": "862e06c5",
   "metadata": {},
   "outputs": [
    {
     "name": "stdout",
     "output_type": "stream",
     "text": [
      "False\n"
     ]
    }
   ],
   "source": [
    "a = [1, 2, 3, 4, 5]\n",
    "\n",
    "print(14 in a)"
   ]
  },
  {
   "cell_type": "code",
   "execution_count": 92,
   "id": "d9b8b5cc",
   "metadata": {},
   "outputs": [
    {
     "name": "stdout",
     "output_type": "stream",
     "text": [
      "True\n"
     ]
    }
   ],
   "source": [
    "print(4 in a)"
   ]
  },
  {
   "cell_type": "code",
   "execution_count": 93,
   "id": "21cdb4f9",
   "metadata": {},
   "outputs": [
    {
     "name": "stdout",
     "output_type": "stream",
     "text": [
      "True\n"
     ]
    }
   ],
   "source": [
    "print(14 not in a)"
   ]
  },
  {
   "cell_type": "code",
   "execution_count": 95,
   "id": "e6d3b6a3",
   "metadata": {},
   "outputs": [
    {
     "name": "stdout",
     "output_type": "stream",
     "text": [
      "False\n"
     ]
    }
   ],
   "source": [
    "print(5 not in a)"
   ]
  }
 ],
 "metadata": {
  "kernelspec": {
   "display_name": "ML",
   "language": "python",
   "name": "python3"
  },
  "language_info": {
   "codemirror_mode": {
    "name": "ipython",
    "version": 3
   },
   "file_extension": ".py",
   "mimetype": "text/x-python",
   "name": "python",
   "nbconvert_exporter": "python",
   "pygments_lexer": "ipython3",
   "version": "3.13.5"
  }
 },
 "nbformat": 4,
 "nbformat_minor": 5
}
