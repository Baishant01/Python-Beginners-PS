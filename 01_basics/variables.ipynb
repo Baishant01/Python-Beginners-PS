{
 "cells": [
  {
   "cell_type": "markdown",
   "id": "33e25329",
   "metadata": {},
   "source": []
  },
  {
   "cell_type": "markdown",
   "id": "12fdea1b",
   "metadata": {},
   "source": [
    "## What are variables?\n",
    "- Variables are used to store data values. In programming, a variable is a named storage location that can hold different values throughout the execution of a program. Variables can be thought of as containers for data. Variables are resuable."
   ]
  },
  {
   "cell_type": "markdown",
   "id": "7018d66b",
   "metadata": {},
   "source": [
    "## Examples:"
   ]
  },
  {
   "cell_type": "markdown",
   "id": "df1e43ed",
   "metadata": {},
   "source": [
    "### Storing String examples below:"
   ]
  },
  {
   "cell_type": "code",
   "execution_count": 5,
   "id": "f6ec840a",
   "metadata": {},
   "outputs": [
    {
     "name": "stdout",
     "output_type": "stream",
     "text": [
      "I am learning Python programming language.\n"
     ]
    }
   ],
   "source": [
    "name = \"Python\"\n",
    "print(f\"I am learning \"+name+\" programming language.\")"
   ]
  },
  {
   "cell_type": "code",
   "execution_count": null,
   "id": "bec715f2",
   "metadata": {},
   "outputs": [
    {
     "name": "stdout",
     "output_type": "stream",
     "text": [
      "I love My country very much.\n"
     ]
    }
   ],
   "source": [
    "country = \"My country\"\n",
    "print(\"I love\",country, \"very much.\") # Automatically puts a space between arguments unlike + operator separation as shown up.\n"
   ]
  },
  {
   "cell_type": "code",
   "execution_count": 8,
   "id": "777eab0b",
   "metadata": {},
   "outputs": [
    {
     "name": "stdout",
     "output_type": "stream",
     "text": [
      "I am passionate to learn Python programming language.\n"
     ]
    }
   ],
   "source": [
    "print('I am passionate to learn {} programming language.'.format(name))"
   ]
  },
  {
   "cell_type": "markdown",
   "id": "fc990e8f",
   "metadata": {},
   "source": [
    "### Storing Int examples below:\n"
   ]
  },
  {
   "cell_type": "code",
   "execution_count": 2,
   "id": "bd7f05c1",
   "metadata": {},
   "outputs": [
    {
     "name": "stdout",
     "output_type": "stream",
     "text": [
      "You are 22 years old\n"
     ]
    }
   ],
   "source": [
    "age = 22\n",
    "print(f'You are {age} years old')"
   ]
  },
  {
   "cell_type": "code",
   "execution_count": 9,
   "id": "f0f6b709",
   "metadata": {},
   "outputs": [
    {
     "name": "stdout",
     "output_type": "stream",
     "text": [
      "You have purchased 20 items at a price of 100 each, which amounts to 2000 in total.\n"
     ]
    }
   ],
   "source": [
    "price = 100\n",
    "quantity = 20\n",
    "\n",
    "print(f\"You have purchased {quantity} items at a price of {price} each, which amounts to {quantity * price} in total.\")"
   ]
  },
  {
   "cell_type": "markdown",
   "id": "0b39809a",
   "metadata": {},
   "source": [
    "### Storing Float examples below."
   ]
  },
  {
   "cell_type": "code",
   "execution_count": 10,
   "id": "82e66f11",
   "metadata": {},
   "outputs": [
    {
     "name": "stdout",
     "output_type": "stream",
     "text": [
      "Your gpa is 3.47\n",
      "The distance is 6.1 km.\n",
      "The price is 10.5.\n"
     ]
    }
   ],
   "source": [
    "gpa = 3.47\n",
    "distance = 6.1\n",
    "price = 10.5\n",
    "\n",
    "print(f\"Your gpa is {gpa}\")\n",
    "print(f\"The distance is {distance} km.\")\n",
    "print(f\"The price is {price}.\")\n"
   ]
  },
  {
   "cell_type": "markdown",
   "id": "89c743d5",
   "metadata": {},
   "source": [
    "### Storing Boolean examples below:\n"
   ]
  },
  {
   "cell_type": "code",
   "execution_count": 11,
   "id": "ef533e99",
   "metadata": {},
   "outputs": [
    {
     "name": "stdout",
     "output_type": "stream",
     "text": [
      " Is Baishant a student? (True) and is he playing games during examination? (False)\n"
     ]
    }
   ],
   "source": [
    "is_student = True\n",
    "playing_games = False\n",
    "\n",
    "print(f\" Is Baishant a student? ({is_student}) and is he playing games during examination? ({playing_games})\")\n",
    "\n"
   ]
  },
  {
   "cell_type": "markdown",
   "id": "0ae2a4da",
   "metadata": {},
   "source": [
    "### Multiple variables assignment:"
   ]
  },
  {
   "cell_type": "code",
   "execution_count": 13,
   "id": "b32a33c5",
   "metadata": {},
   "outputs": [
    {
     "name": "stdout",
     "output_type": "stream",
     "text": [
      "x = 5, y = 10, z = 15\n"
     ]
    }
   ],
   "source": [
    "x, y, z = 5, 10, 15\n",
    "print(f\"x = {x}, y = {y}, z = {z}\")\n"
   ]
  },
  {
   "cell_type": "code",
   "execution_count": null,
   "id": "4514ecc5",
   "metadata": {},
   "outputs": [],
   "source": []
  },
  {
   "cell_type": "code",
   "execution_count": null,
   "id": "740a0d99",
   "metadata": {},
   "outputs": [],
   "source": []
  },
  {
   "cell_type": "code",
   "execution_count": null,
   "id": "c825a1f9",
   "metadata": {},
   "outputs": [],
   "source": []
  }
 ],
 "metadata": {
  "kernelspec": {
   "display_name": "ML",
   "language": "python",
   "name": "python3"
  },
  "language_info": {
   "codemirror_mode": {
    "name": "ipython",
    "version": 3
   },
   "file_extension": ".py",
   "mimetype": "text/x-python",
   "name": "python",
   "nbconvert_exporter": "python",
   "pygments_lexer": "ipython3",
   "version": "3.13.5"
  }
 },
 "nbformat": 4,
 "nbformat_minor": 5
}
