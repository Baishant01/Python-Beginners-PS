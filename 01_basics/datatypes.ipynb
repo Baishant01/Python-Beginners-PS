{
 "cells": [
  {
   "cell_type": "markdown",
   "id": "c39508f9",
   "metadata": {},
   "source": [
    "## What are datatypes?\n",
    "Datatypes are the classification of data items in programming. They define the type of value a variable can hold and what operations can be performed on it."
   ]
  },
  {
   "cell_type": "markdown",
   "id": "ffa3f639",
   "metadata": {},
   "source": [
    "## Variaties of Datatypes in Python\n",
    "\n",
    "1. **Numeric Types**: Integers (int), Floating-point numbers (float), and Complex numbers (complex).\n",
    "2. **Sequence Types**: Strings (str), Lists (list), Tuples (tuple).\n",
    "3. **Mapping Type**: Dictionaries (dict).\n",
    "4. **Set Types**: Sets (set), Frozensets (frozenset).\n",
    "5. **Boolean Type**: True or False values (bool).\n",
    "6. **Binary Types**: Bytes (bytes), Bytearrays (bytearray), Memoryviews (memoryview).\n"
   ]
  },
  {
   "cell_type": "markdown",
   "id": "2ea4afb8",
   "metadata": {},
   "source": [
    "### Extracting numerical datatypes:"
   ]
  },
  {
   "cell_type": "code",
   "execution_count": 2,
   "id": "5c805575",
   "metadata": {},
   "outputs": [
    {
     "data": {
      "text/plain": [
       "int"
      ]
     },
     "execution_count": 2,
     "metadata": {},
     "output_type": "execute_result"
    }
   ],
   "source": [
    "# int\n",
    "\n",
    "x = 15\n",
    "type(x)"
   ]
  },
  {
   "cell_type": "code",
   "execution_count": 3,
   "id": "2aa91aab",
   "metadata": {},
   "outputs": [
    {
     "data": {
      "text/plain": [
       "float"
      ]
     },
     "execution_count": 3,
     "metadata": {},
     "output_type": "execute_result"
    }
   ],
   "source": [
    "# float\n",
    "\n",
    "y = 12.5\n",
    "type(y)"
   ]
  },
  {
   "cell_type": "code",
   "execution_count": null,
   "id": "2df1523f",
   "metadata": {},
   "outputs": [
    {
     "name": "stdout",
     "output_type": "stream",
     "text": [
      "<class 'complex'>\n"
     ]
    },
    {
     "data": {
      "text/plain": [
       "float"
      ]
     },
     "execution_count": 12,
     "metadata": {},
     "output_type": "execute_result"
    }
   ],
   "source": [
    "# complex\n",
    "# Don’t use i — Python only recognizes j for imaginary numbers. (python uses j instead of i for recognizing imaginary numbers)\n",
    "# Don’t forget that both parts are floats internally if we convert complex to real numbers.\n",
    "\n",
    "h = 3 + 6j \n",
    "print(type(h)) # <class 'complex'>\n",
    "\n",
    "z = 3 + 4j.real\n",
    "type(z)"
   ]
  },
  {
   "cell_type": "markdown",
   "id": "4839c61f",
   "metadata": {},
   "source": [
    "### Extracting Sequence types datatypes:"
   ]
  },
  {
   "cell_type": "code",
   "execution_count": 14,
   "id": "14e880db",
   "metadata": {},
   "outputs": [
    {
     "data": {
      "text/plain": [
       "str"
      ]
     },
     "execution_count": 14,
     "metadata": {},
     "output_type": "execute_result"
    }
   ],
   "source": [
    "# str\n",
    "name = \"Python\"\n",
    "type(name)"
   ]
  },
  {
   "cell_type": "code",
   "execution_count": null,
   "id": "19c565d4",
   "metadata": {},
   "outputs": [
    {
     "name": "stdout",
     "output_type": "stream",
     "text": [
      "<class 'list'>\n"
     ]
    }
   ],
   "source": [
    "# list\n",
    "\n",
    "# list variable uses [] to define a list datatype\n",
    "\n",
    "to_do_list = ['buy groceries', 'clean the house', 'pay bills']\n",
    "print(type(to_do_list))"
   ]
  },
  {
   "cell_type": "code",
   "execution_count": null,
   "id": "824ab8f3",
   "metadata": {},
   "outputs": [
    {
     "name": "stdout",
     "output_type": "stream",
     "text": [
      "<class 'tuple'>\n"
     ]
    }
   ],
   "source": [
    "# tuple\n",
    "\n",
    "# tuple variable uses () to define a tuple datatype\n",
    "\n",
    "my_tuple = ('apple', 'banana', 'cherry')\n",
    "print(type(my_tuple))"
   ]
  },
  {
   "cell_type": "markdown",
   "id": "f0f2424d",
   "metadata": {},
   "source": [
    "### Extracting Mapping type datatypes:"
   ]
  },
  {
   "cell_type": "code",
   "execution_count": null,
   "id": "b84a02fd",
   "metadata": {},
   "outputs": [
    {
     "data": {
      "text/plain": [
       "dict"
      ]
     },
     "execution_count": 18,
     "metadata": {},
     "output_type": "execute_result"
    }
   ],
   "source": [
    "# dict\n",
    "\n",
    "# dict variable uses {} and keys and values to define a dictionary datatype\n",
    "\n",
    "my_dictionary = {'myname': 'Baishant Pachhai', 'myage': 22, 'my_programming_lang': 'Python'}\n",
    "type(my_dictionary)"
   ]
  },
  {
   "cell_type": "markdown",
   "id": "cf7eb787",
   "metadata": {},
   "source": [
    "### Extracting Sets types datatypes:"
   ]
  },
  {
   "cell_type": "code",
   "execution_count": 21,
   "id": "4a46f978",
   "metadata": {},
   "outputs": [
    {
     "name": "stdout",
     "output_type": "stream",
     "text": [
      "<class 'set'>\n"
     ]
    }
   ],
   "source": [
    "# set\n",
    "my_set = {'apple', 'banana', 'cherry'}\n",
    "print(type(my_set))"
   ]
  },
  {
   "cell_type": "code",
   "execution_count": 23,
   "id": "8ee904da",
   "metadata": {},
   "outputs": [
    {
     "name": "stdout",
     "output_type": "stream",
     "text": [
      "<class 'frozenset'>\n"
     ]
    }
   ],
   "source": [
    "# frozenset\n",
    "my_frozen_set = frozenset({'apple', 'banana', 'cherry'})\n",
    "print(type(my_frozen_set))"
   ]
  },
  {
   "cell_type": "markdown",
   "id": "ddd99f29",
   "metadata": {},
   "source": [
    "### Extracting Boolean types datatypes:\n"
   ]
  },
  {
   "cell_type": "code",
   "execution_count": null,
   "id": "2b175171",
   "metadata": {},
   "outputs": [
    {
     "data": {
      "text/plain": [
       "False"
      ]
     },
     "execution_count": 26,
     "metadata": {},
     "output_type": "execute_result"
    }
   ],
   "source": [
    "# False\n",
    "4 == 5 # == means logical equality"
   ]
  },
  {
   "cell_type": "code",
   "execution_count": null,
   "id": "94909611",
   "metadata": {},
   "outputs": [
    {
     "data": {
      "text/plain": [
       "True"
      ]
     },
     "execution_count": 28,
     "metadata": {},
     "output_type": "execute_result"
    }
   ],
   "source": [
    "# True\n",
    "4 != 5 # ! means logical negation"
   ]
  },
  {
   "cell_type": "markdown",
   "id": "d951a8ad",
   "metadata": {},
   "source": [
    "### Extracting Binary types datatypes:"
   ]
  },
  {
   "cell_type": "code",
   "execution_count": 32,
   "id": "16c2a066",
   "metadata": {},
   "outputs": [
    {
     "name": "stdout",
     "output_type": "stream",
     "text": [
      "<class 'bytes'>\n"
     ]
    }
   ],
   "source": [
    "#byte\n",
    "my_byte = b\"Hello\"\n",
    "print(type(my_byte))"
   ]
  },
  {
   "cell_type": "code",
   "execution_count": 37,
   "id": "2e068693",
   "metadata": {},
   "outputs": [
    {
     "name": "stdout",
     "output_type": "stream",
     "text": [
      "<class 'bytes'>\n"
     ]
    }
   ],
   "source": [
    "b = b'1,0,5,0,6'\n",
    "print(type(b))"
   ]
  },
  {
   "cell_type": "code",
   "execution_count": null,
   "id": "e1102e4b",
   "metadata": {},
   "outputs": [
    {
     "name": "stdout",
     "output_type": "stream",
     "text": [
      "<class 'bytes'>\n"
     ]
    }
   ],
   "source": [
    "\n",
    "b = [1,2,3,4]\n",
    "b1 = bytes(b)\n",
    "print(type(b1))"
   ]
  },
  {
   "cell_type": "code",
   "execution_count": null,
   "id": "b63ded40",
   "metadata": {},
   "outputs": [
    {
     "ename": "TypeError",
     "evalue": "'bytes' object does not support item assignment",
     "output_type": "error",
     "traceback": [
      "\u001b[31m---------------------------------------------------------------------------\u001b[39m",
      "\u001b[31mTypeError\u001b[39m                                 Traceback (most recent call last)",
      "\u001b[36mCell\u001b[39m\u001b[36m \u001b[39m\u001b[32mIn[44]\u001b[39m\u001b[32m, line 4\u001b[39m\n\u001b[32m      1\u001b[39m \u001b[38;5;66;03m# bytes are immutable\u001b[39;00m\n\u001b[32m      3\u001b[39m b[\u001b[32m1\u001b[39m] = \u001b[32m5\u001b[39m \u001b[38;5;66;03m# works mutating character as it is list\u001b[39;00m\n\u001b[32m----> \u001b[39m\u001b[32m4\u001b[39m b1[\u001b[32m1\u001b[39m] = \u001b[32m5\u001b[39m\n",
      "\u001b[31mTypeError\u001b[39m: 'bytes' object does not support item assignment"
     ]
    }
   ],
   "source": [
    "# bytes are immutable\n",
    "\n",
    "b[1] = 5 # works mutating character as it is list\n",
    "b1[1] = 5 # doesn't work as bytes are immutable"
   ]
  },
  {
   "cell_type": "code",
   "execution_count": 54,
   "id": "35faadcc",
   "metadata": {},
   "outputs": [
    {
     "ename": "ValueError",
     "evalue": "bytes must be in range(0, 256)",
     "output_type": "error",
     "traceback": [
      "\u001b[31m---------------------------------------------------------------------------\u001b[39m",
      "\u001b[31mValueError\u001b[39m                                Traceback (most recent call last)",
      "\u001b[36mCell\u001b[39m\u001b[36m \u001b[39m\u001b[32mIn[54]\u001b[39m\u001b[32m, line 7\u001b[39m\n\u001b[32m      4\u001b[39m b = \u001b[38;5;28mbytes\u001b[39m(a) \u001b[38;5;66;03m#bytes of length 500\u001b[39;00m\n\u001b[32m      6\u001b[39m c = [\u001b[32m1\u001b[39m, \u001b[32m2\u001b[39m, \u001b[32m3\u001b[39m, \u001b[32m4\u001b[39m, \u001b[32m256\u001b[39m]\n\u001b[32m----> \u001b[39m\u001b[32m7\u001b[39m d = \u001b[38;5;28mbytes\u001b[39m(c)\n",
      "\u001b[31mValueError\u001b[39m: bytes must be in range(0, 256)"
     ]
    }
   ],
   "source": [
    "# Range of bytes 1 - 255 values\n",
    "\n",
    "a = 500\n",
    "b = bytes(a) #bytes of length 500\n",
    "\n",
    "c = [1, 2, 3, 4, 256]\n",
    "d = bytes(c) # ValueError:bytes must be in the range 0 to 256 \n"
   ]
  },
  {
   "cell_type": "code",
   "execution_count": null,
   "id": "b2804272",
   "metadata": {},
   "outputs": [
    {
     "name": "stdout",
     "output_type": "stream",
     "text": [
      "<class 'bytearray'>\n"
     ]
    }
   ],
   "source": [
    "#bytesarray\n",
    "\n",
    "#bytesarray is similar to bytes but the only difference is that it is mutable.\n",
    "\n",
    "my_bytes_array = bytearray(b\"Hello\")\n",
    "print(type(my_bytes_array))\n",
    "\n",
    "list1 = [1, 2, 3, 4, 5]\n",
    "e = bytearray(list1)\n",
    "e[0] = 10 # Now error as it is mutable unlike bytes"
   ]
  },
  {
   "cell_type": "code",
   "execution_count": 34,
   "id": "f7648556",
   "metadata": {},
   "outputs": [
    {
     "name": "stdout",
     "output_type": "stream",
     "text": [
      "<class 'memoryview'>\n"
     ]
    }
   ],
   "source": [
    "#memoryview\n",
    "my_memory_view = memoryview(my_bytes_array)\n",
    "print(type(my_memory_view))"
   ]
  },
  {
   "cell_type": "code",
   "execution_count": null,
   "id": "c97ee488",
   "metadata": {},
   "outputs": [],
   "source": []
  }
 ],
 "metadata": {
  "kernelspec": {
   "display_name": "ML",
   "language": "python",
   "name": "python3"
  },
  "language_info": {
   "codemirror_mode": {
    "name": "ipython",
    "version": 3
   },
   "file_extension": ".py",
   "mimetype": "text/x-python",
   "name": "python",
   "nbconvert_exporter": "python",
   "pygments_lexer": "ipython3",
   "version": "3.13.5"
  }
 },
 "nbformat": 4,
 "nbformat_minor": 5
}
